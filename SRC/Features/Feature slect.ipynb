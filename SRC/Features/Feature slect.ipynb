{
 "cells": [
  {
   "cell_type": "code",
   "execution_count": null,
   "metadata": {},
   "outputs": [],
   "source": [
    "# loading data\n",
    "\n",
    "data=pd.read_csv(r\"C:\\Users\\97158\\Desktop\\Apziva\\Project 1-Customer Happiness\\ACME-HappinessSurvey2020.csv\")"
   ]
  },
  {
   "cell_type": "code",
   "execution_count": null,
   "metadata": {},
   "outputs": [],
   "source": [
    "#Finding correlation between variables with respect to target variable Y\n",
    "\n",
    "Cor_data=data.corr()\n",
    "sns.heatmap(Cor_data, annot=True)"
   ]
  },
  {
   "cell_type": "code",
   "execution_count": null,
   "metadata": {},
   "outputs": [],
   "source": [
    "#Selecting the relevant variables\n",
    "\n",
    "X=data.drop(['Y','X2','X4'],axis=1)\n",
    "X.shape\n",
    "Y.shape"
   ]
  }
 ],
 "metadata": {
  "language_info": {
   "name": "python"
  }
 },
 "nbformat": 4,
 "nbformat_minor": 2
}
